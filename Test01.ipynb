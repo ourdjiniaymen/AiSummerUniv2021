{
  "nbformat": 4,
  "nbformat_minor": 0,
  "metadata": {
    "colab": {
      "name": "Test01.ipynb",
      "provenance": []
    },
    "kernelspec": {
      "name": "python3",
      "display_name": "Python 3"
    }
  },
  "cells": [
    {
      "cell_type": "markdown",
      "metadata": {
        "id": "WYm7ckZE57rl"
      },
      "source": [
        "## **General**\r\n",
        "1- What's the difference between a Machine Learning (ML) Model and a Machine Learning algorithm.\r\n",
        "\r\n",
        "2- Why we need to study Linear Algebra for ML?"
      ]
    },
    {
      "cell_type": "markdown",
      "metadata": {
        "id": "vmgZdLTrdnel"
      },
      "source": [
        "# Responses:\r\n",
        "1-difference between a Machine Learning (ML) Model and a Machine Learning algorithm:\r\n",
        "\r\n",
        "**An “algorithm” in machine learning is a procedure that is run on data to create a machine learning “model.”\r\n",
        "\r\n",
        "**A “model” in machine learning is the output of a machine learning algorithm run on data.it represents what was learned by a machine learning algorithm\r\n",
        "\r\n",
        "\r\n",
        "\r\n",
        "2-we need to study Linear Algebra for ML because Linear Algebra allows us to start understanding basic linear systems with use of matrices and vectors; which we need it in ML."
      ]
    },
    {
      "cell_type": "markdown",
      "metadata": {
        "id": "SPBs8VixeD8G"
      },
      "source": [
        "**## Vectors:**\r\n",
        "\r\n",
        "**1- create a vector: **\r\n",
        "\r\n",
        "Our vector can be written as v=(2,1), but more formally we would use the following notation, in which the dimensional coordinate values for the vector are shown as a matrix:$$\\vec{v} = \\begin{bmatrix}2 \\\\ 1 \\end{bmatrix}$$"
      ]
    },
    {
      "cell_type": "code",
      "metadata": {
        "id": "pYlRp9O5gOcZ",
        "colab": {
          "base_uri": "https://localhost:8080/"
        },
        "outputId": "9472511b-2803-4d10-995c-b86c9f44a426"
      },
      "source": [
        "import numpy as np\r\n",
        "v=np.array([[2],\r\n",
        "            [1]])\r\n",
        "\r\n",
        "print(v)"
      ],
      "execution_count": 1,
      "outputs": [
        {
          "output_type": "stream",
          "text": [
            "[[2]\n",
            " [1]]\n"
          ],
          "name": "stdout"
        }
      ]
    },
    {
      "cell_type": "markdown",
      "metadata": {
        "id": "I3HPxUfQgpp2"
      },
      "source": [
        "### **2-Calculating Magnitude**"
      ]
    },
    {
      "cell_type": "code",
      "metadata": {
        "id": "mIXSLO7dhGzp",
        "colab": {
          "base_uri": "https://localhost:8080/"
        },
        "outputId": "05d31af0-f031-4b4c-b653-f772d54d67db"
      },
      "source": [
        "import math\r\n",
        "v=np.array([[2],\r\n",
        "            [1]])\r\n",
        "magnitude = math.sqrt(sum(j**2 for j in v))\r\n",
        "print(magnitude)\r\n",
        "\r\n"
      ],
      "execution_count": 5,
      "outputs": [
        {
          "output_type": "stream",
          "text": [
            "2.23606797749979\n"
          ],
          "name": "stdout"
        }
      ]
    },
    {
      "cell_type": "markdown",
      "metadata": {
        "id": "7jBRtTMdh-0H"
      },
      "source": [
        "\r\n",
        "**3- Vector Addition:**\r\n",
        "So far, we've worked with one vector at a time. What happens when you need to add two vectors.\r\n",
        "\r\n",
        "Let's take a look at an example, we already have a vector named v, as defined here:$$\\vec{v} = \\begin{bmatrix}2 \\\\ 1 \\end{bmatrix}$$Now let's create a second vector, and called s like this:$$\\vec{s} = \\begin{bmatrix}-3 \\\\ 2 \\end{bmatrix}$$\r\n",
        "\r\n",
        "And we have :$$\\vec{z} = \\vec{v}+\\vec{s}$$"
      ]
    },
    {
      "cell_type": "code",
      "metadata": {
        "id": "cyPCRCXZie9e",
        "colab": {
          "base_uri": "https://localhost:8080/"
        },
        "outputId": "e17fe02b-1a4b-4b0d-812d-0c5ea08811b7"
      },
      "source": [
        "\r\n",
        "import math\r\n",
        "import numpy as np\r\n",
        "\r\n",
        "v = np.array([[2],\r\n",
        "              [1]])\r\n",
        "s = np.array([[-3],\r\n",
        "              [2]]) \r\n",
        "z = np.add(v,s)\r\n",
        "print (z)"
      ],
      "execution_count": 8,
      "outputs": [
        {
          "output_type": "stream",
          "text": [
            "[[-1]\n",
            " [ 3]]\n"
          ],
          "name": "stdout"
        }
      ]
    },
    {
      "cell_type": "markdown",
      "metadata": {
        "id": "_CjY0iqijB5N"
      },
      "source": [
        "\r\n",
        "4- Dot Product Multiplication\r\n",
        "\r\n",
        "\r\n",
        "$$ \\vec{d}=\\vec{v} \\cdot \\vec{s} = (v_{1} \\cdot s_{1}) + (v_{2} \\cdot s_{2}) ... + \\; (v_{n} \\cdot s_{n})$$"
      ]
    },
    {
      "cell_type": "code",
      "metadata": {
        "id": "9xSZu9zWjpgr",
        "colab": {
          "base_uri": "https://localhost:8080/"
        },
        "outputId": "a52c0f0f-078b-42da-c179-2c7efdaf36c0"
      },
      "source": [
        "\r\n",
        "import math\r\n",
        "import numpy as np\r\n",
        "\r\n",
        "v = np.array([[2],\r\n",
        "              [1]])\r\n",
        "s = np.array([[-3],\r\n",
        "              [2]])  \r\n",
        "d = v*s\r\n",
        "print (d)"
      ],
      "execution_count": 11,
      "outputs": [
        {
          "output_type": "stream",
          "text": [
            "[[-6]\n",
            " [ 2]]\n"
          ],
          "name": "stdout"
        }
      ]
    },
    {
      "cell_type": "markdown",
      "metadata": {
        "id": "PgXPtvE5j79t"
      },
      "source": [
        "## **Matrices:**\r\n",
        "\r\n",
        "# 1- create a Matrice:\r\n",
        "A matrix arranges numbers into rows and columns, like this:\r\n",
        "\r\n",
        "$$A = \\begin{bmatrix}\r\n",
        "  1 &amp; 2 &amp; 3 \\\\\r\n",
        "  4 &amp; 5 &amp; 6\r\n",
        " \\end{bmatrix}\r\n",
        "$$"
      ]
    },
    {
      "cell_type": "code",
      "metadata": {
        "id": "uZEPEBzolG7d",
        "colab": {
          "base_uri": "https://localhost:8080/"
        },
        "outputId": "f2d27461-197f-4d82-a049-88b1ed1c7986"
      },
      "source": [
        "import numpy as np\r\n",
        "\r\n",
        "A = np.array([[1,2,3],[4,5,6]])\r\n",
        "print (A)"
      ],
      "execution_count": 14,
      "outputs": [
        {
          "output_type": "stream",
          "text": [
            "[[1 2 3]\n",
            " [4 5 6]]\n"
          ],
          "name": "stdout"
        }
      ]
    },
    {
      "cell_type": "markdown",
      "metadata": {
        "id": "Ux8mSUHblecq"
      },
      "source": [
        "\r\n",
        "#2- Matrix Transposition\r\n",
        "You can transpose a matrix, that is switch the orientation of its rows and columns. You indicate this with a superscript T, like this:\r\n",
        "\r\n",
        "$$\\begin{bmatrix}1 &amp; 2 &amp; 3 \\\\4 &amp; 5 &amp; 6\\end{bmatrix}^{T} = \\begin{bmatrix}1 &amp; 42 &amp; 53 &amp; 6 \\end{bmatrix}$$"
      ]
    },
    {
      "cell_type": "markdown",
      "metadata": {
        "id": "o1DWED1nl4-Z"
      },
      "source": [
        "a- How can we do it mathematically? \r\n",
        "\r\n",
        "interchange the rows and columns of the matrix\r\n",
        "i.e. write the elements of the rows as columns and write the elements of a column as rows.\r\n",
        "\r\n"
      ]
    },
    {
      "cell_type": "markdown",
      "metadata": {
        "id": "dNQOyc-jmMNg"
      },
      "source": [
        "b- with Python: "
      ]
    },
    {
      "cell_type": "code",
      "metadata": {
        "colab": {
          "base_uri": "https://localhost:8080/"
        },
        "id": "wFusE1HfmCO_",
        "outputId": "f96f8199-46b0-4146-b40b-45ca26b01a15"
      },
      "source": [
        "import numpy as np\r\n",
        "\r\n",
        "A=np.transpose(A)\r\n",
        "print(A)"
      ],
      "execution_count": 20,
      "outputs": [
        {
          "output_type": "stream",
          "text": [
            "[[1 4]\n",
            " [2 5]\n",
            " [3 6]]\n"
          ],
          "name": "stdout"
        }
      ]
    },
    {
      "cell_type": "markdown",
      "metadata": {
        "id": "tbRgbgdlmy0Y"
      },
      "source": [
        "## **Eigendecomposition:**\r\n",
        "\r\n",
        "So we've learned a little about eigenvalues and eigenvectors; but you may be wondering what use they are. Well, one use for them is to help decompose transformation matrices.\r\n",
        "\r\n",
        "1- How can we decompose a matrix? ( Rules and steps)\r\n",
        "2- (Bonus) Do it in python with your exampls."
      ]
    },
    {
      "cell_type": "markdown",
      "metadata": {
        "id": "zFFBuyE8o0Pu"
      },
      "source": [
        "1-........................................"
      ]
    },
    {
      "cell_type": "code",
      "metadata": {
        "id": "UStyMfAao4DB",
        "colab": {
          "base_uri": "https://localhost:8080/"
        },
        "outputId": "4ad7d35f-d787-42ff-cfda-0f8845fed912"
      },
      "source": [
        "#2 bonus\r\n",
        "import numpy as np\r\n",
        "A = np.array([[1,2],[2,2]])\r\n",
        "eigenvalues, eigenvectors = np.linalg.eig(A)\r\n",
        "eigenvalues = np.diag(eigenvalues)\r\n",
        "B = eigenvectors.dot(eigenvalues).dot(eigenvectors.T)\r\n",
        "#B==A\r\n",
        "print(eigenvalues)\r\n",
        "print(eigenvectors)\r\n",
        "print(B)\r\n"
      ],
      "execution_count": 27,
      "outputs": [
        {
          "output_type": "stream",
          "text": [
            "[[-0.56155281  0.        ]\n",
            " [ 0.          3.56155281]]\n",
            "[[-0.78820544 -0.61541221]\n",
            " [ 0.61541221 -0.78820544]]\n",
            "[[1. 2.]\n",
            " [2. 2.]]\n"
          ],
          "name": "stdout"
        }
      ]
    },
    {
      "cell_type": "markdown",
      "metadata": {
        "id": "IxFkK_9rPoZ9"
      },
      "source": [
        "***Git and github commands***\r\n",
        "\r\n",
        "1-git init\r\n",
        "\r\n",
        "2-git remote add origin https://github.com/ourdjiniaymen/AiSummerUniv2021\r\n",
        "\r\n",
        "3-git add -A\r\n",
        "\r\n",
        "4-git commit -m\"test1\"\r\n",
        "\r\n",
        "5-git push origin master"
      ]
    }
  ]
}